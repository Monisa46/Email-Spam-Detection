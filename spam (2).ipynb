{
 "cells": [
  {
   "cell_type": "code",
   "execution_count": 3,
   "id": "dc388e6f-8f39-4cc2-8553-99e1584faff6",
   "metadata": {},
   "outputs": [
    {
     "name": "stderr",
     "output_type": "stream",
     "text": [
      "[nltk_data] Downloading package stopwords to\n",
      "[nltk_data]     C:\\Users\\HP440G4\\AppData\\Roaming\\nltk_data...\n",
      "[nltk_data]   Package stopwords is already up-to-date!\n"
     ]
    },
    {
     "name": "stdout",
     "output_type": "stream",
     "text": [
      "🔍 Naive Bayes Performance:\n",
      "Accuracy : 0.9659192825112107\n",
      "Precision: 1.0\n",
      "Recall   : 0.7466666666666667\n",
      "\n",
      "🔍 SVM Performance:\n",
      "Accuracy : 0.9757847533632287\n",
      "Precision: 0.9767441860465116\n",
      "Recall   : 0.84\n"
     ]
    }
   ],
   "source": [
    "# === 1. Import Required Libraries ===\n",
    "import pandas as pd\n",
    "import string\n",
    "import nltk\n",
    "from sklearn.model_selection import train_test_split\n",
    "from sklearn.feature_extraction.text import TfidfVectorizer\n",
    "from sklearn.naive_bayes import MultinomialNB\n",
    "from sklearn.svm import LinearSVC\n",
    "from sklearn.metrics import accuracy_score, precision_score, recall_score\n",
    "from nltk.corpus import stopwords\n",
    "\n",
    "# === 2. Download NLTK stopwords (run once) ===\n",
    "nltk.download('stopwords')\n",
    "\n",
    "# === 3. Load Dataset ===\n",
    "df = pd.read_csv(r\"C:\\Users\\HP440G4\\Downloads\\spam.csv\", encoding='latin-1')[['v1', 'v2']]\n",
    "df.columns = ['label', 'text']  # Rename for clarity\n",
    "df['label'] = df['label'].map({'ham': 0, 'spam': 1})  # Convert labels\n",
    "\n",
    "# === 4. Text Cleaning Function ===\n",
    "def clean_text(text):\n",
    "    text = text.lower()  # Lowercase\n",
    "    text = ''.join([char for char in text if char not in string.punctuation])  # Remove punctuation\n",
    "    words = text.split()  # Tokenize\n",
    "    stop_words = set(stopwords.words('english'))  # Load stopwords\n",
    "    words = [word for word in words if word not in stop_words]  # Remove stopwords\n",
    "    return ' '.join(words)\n",
    "\n",
    "# Apply cleaning\n",
    "df['clean_text'] = df['text'].apply(clean_text)\n",
    "\n",
    "# === 5. TF-IDF Vectorization ===\n",
    "tfidf = TfidfVectorizer()\n",
    "X = tfidf.fit_transform(df['clean_text'])\n",
    "y = df['label']\n",
    "\n",
    "# === 6. Train/Test Split ===\n",
    "X_train, X_test, y_train, y_test = train_test_split(X, y, test_size=0.2, random_state=42)\n",
    "\n",
    "# === 7. Train Naive Bayes ===\n",
    "nb_model = MultinomialNB()\n",
    "nb_model.fit(X_train, y_train)\n",
    "nb_preds = nb_model.predict(X_test)\n",
    "\n",
    "# === 8. Train SVM ===\n",
    "svm_model = LinearSVC()\n",
    "svm_model.fit(X_train, y_train)\n",
    "svm_preds = svm_model.predict(X_test)\n",
    "\n",
    "# === 9. Evaluate Models ===\n",
    "print(\"🔍 Naive Bayes Performance:\")\n",
    "print(\"Accuracy :\", accuracy_score(y_test, nb_preds))\n",
    "print(\"Precision:\", precision_score(y_test, nb_preds))\n",
    "print(\"Recall   :\", recall_score(y_test, nb_preds))\n",
    "\n",
    "print(\"\\n🔍 SVM Performance:\")\n",
    "print(\"Accuracy :\", accuracy_score(y_test, svm_preds))\n",
    "print(\"Precision:\", precision_score(y_test, svm_preds))\n",
    "print(\"Recall   :\", recall_score(y_test, svm_preds))\n"
   ]
  },
  {
   "cell_type": "code",
   "execution_count": 5,
   "id": "01950942-a095-4678-bf5f-d80310d9f1d8",
   "metadata": {},
   "outputs": [
    {
     "data": {
      "text/plain": [
       "['tfidf_vectorizer.pkl']"
      ]
     },
     "execution_count": 5,
     "metadata": {},
     "output_type": "execute_result"
    }
   ],
   "source": [
    "import joblib\n",
    "\n",
    "# Save model and vectorizer (you MUST run this)\n",
    "joblib.dump(svm_model, 'spam_classifier_model.pkl')\n",
    "joblib.dump(tfidf, 'tfidf_vectorizer.pkl')\n"
   ]
  },
  {
   "cell_type": "code",
   "execution_count": 7,
   "id": "0d293c72-f82f-4aaf-a682-5741b3a5a15e",
   "metadata": {},
   "outputs": [
    {
     "data": {
      "text/plain": [
       "['spam_classifier_model.pkl']"
      ]
     },
     "execution_count": 7,
     "metadata": {},
     "output_type": "execute_result"
    }
   ],
   "source": [
    "import joblib\n",
    "\n",
    "# Replace with your actual trained model variable\n",
    "joblib.dump(svm_model, 'spam_classifier_model.pkl')  # ✅ Save model\n"
   ]
  },
  {
   "cell_type": "code",
   "execution_count": 9,
   "id": "866e7486-2102-49f2-9c8e-ae2a31a34c0b",
   "metadata": {},
   "outputs": [
    {
     "name": "stdout",
     "output_type": "stream",
     "text": [
      "✅ Model and vectorizer saved!\n"
     ]
    }
   ],
   "source": [
    "import joblib\n",
    "\n",
    "# Assuming your trained model is stored in svm_model\n",
    "joblib.dump(svm_model, 'spam_classifier_model.pkl')\n",
    "\n",
    "# Assuming your vectorizer is stored in tfidf\n",
    "joblib.dump(tfidf, 'tfidf_vectorizer.pkl')\n",
    "\n",
    "print(\"✅ Model and vectorizer saved!\")\n"
   ]
  },
  {
   "cell_type": "code",
   "execution_count": 11,
   "id": "de2c80b1-a191-4f5a-b646-32854b4710ce",
   "metadata": {},
   "outputs": [
    {
     "data": {
      "text/plain": [
       "'C:\\\\Users\\\\HP440G4'"
      ]
     },
     "execution_count": 11,
     "metadata": {},
     "output_type": "execute_result"
    }
   ],
   "source": [
    "import os\n",
    "os.getcwd()\n"
   ]
  },
  {
   "cell_type": "code",
   "execution_count": 13,
   "id": "9fbfdd29-dd5a-4a7b-b141-0dbda3707c6d",
   "metadata": {},
   "outputs": [
    {
     "name": "stdout",
     "output_type": "stream",
     "text": [
      "✅ Model and vectorizer saved to Desktop\\spam\n"
     ]
    }
   ],
   "source": [
    "import joblib\n",
    "\n",
    "# Save directly into your spam project folder\n",
    "joblib.dump(svm_model, r'C:\\Users\\HP440G4\\Desktop\\spam\\spam_classifier_model.pkl')\n",
    "joblib.dump(tfidf, r'C:\\Users\\HP440G4\\Desktop\\spam\\tfidf_vectorizer.pkl')\n",
    "\n",
    "print(\"✅ Model and vectorizer saved to Desktop\\\\spam\")\n"
   ]
  },
  {
   "cell_type": "code",
   "execution_count": null,
   "id": "57869775-c21e-4a30-b505-834d77009531",
   "metadata": {},
   "outputs": [],
   "source": []
  }
 ],
 "metadata": {
  "kernelspec": {
   "display_name": "Python [conda env:base] *",
   "language": "python",
   "name": "conda-base-py"
  },
  "language_info": {
   "codemirror_mode": {
    "name": "ipython",
    "version": 3
   },
   "file_extension": ".py",
   "mimetype": "text/x-python",
   "name": "python",
   "nbconvert_exporter": "python",
   "pygments_lexer": "ipython3",
   "version": "3.12.7"
  }
 },
 "nbformat": 4,
 "nbformat_minor": 5
}
